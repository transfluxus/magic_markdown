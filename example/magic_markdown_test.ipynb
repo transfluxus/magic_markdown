{
 "cells": [
  {
   "cell_type": "code",
   "execution_count": 1,
   "metadata": {},
   "outputs": [],
   "source": [
    "%load_ext magic_markdown"
   ]
  },
  {
   "cell_type": "code",
   "execution_count": 2,
   "metadata": {},
   "outputs": [
    {
     "data": {
      "text/markdown": [
       "MagicMarkdown cell magic uses the **mmd** command. "
      ],
      "text/plain": [
       "<IPython.core.display.Markdown object>"
      ]
     },
     "metadata": {},
     "output_type": "display_data"
    }
   ],
   "source": [
    "%%mmd\n",
    "MagicMarkdown cell magic uses the **mmd** command. "
   ]
  },
  {
   "cell_type": "code",
   "execution_count": 3,
   "metadata": {},
   "outputs": [
    {
     "data": {
      "text/markdown": [
       "This is markdown with some python stuff. simply put a python expression into a mustache: 15."
      ],
      "text/plain": [
       "<IPython.core.display.Markdown object>"
      ]
     },
     "metadata": {},
     "output_type": "display_data"
    }
   ],
   "source": [
    "%%mmd\n",
    "This is markdown with some python stuff. simply put a python expression into a mustache: {{5+10}}."
   ]
  },
  {
   "cell_type": "code",
   "execution_count": 4,
   "metadata": {},
   "outputs": [
    {
     "data": {
      "text/markdown": [
       "The cell is interpreted as Markdown, so html will naturally work.<br>\n",
       "<b>some bold  text!</b>"
      ],
      "text/plain": [
       "<IPython.core.display.Markdown object>"
      ]
     },
     "metadata": {},
     "output_type": "display_data"
    }
   ],
   "source": [
    "%%mmd\n",
    "The cell is interpreted as Markdown, so html will naturally work.<br>\n",
    "<b>some bold  text!</b>"
   ]
  },
  {
   "cell_type": "code",
   "execution_count": 6,
   "metadata": {},
   "outputs": [],
   "source": [
    "from IPython.display import JSON, Latex"
   ]
  },
  {
   "cell_type": "code",
   "execution_count": 7,
   "metadata": {},
   "outputs": [
    {
     "data": {
      "text/markdown": [
       "Additionally some of the other types that are defined in IPython.display can be used. Namely:\n",
       " - HTML\n",
       " - JSON \n",
       " - Image\n",
       " - SVG\n",
       " - Latex\n",
       " - Markdown\n",
       "    \n",
       "That means whenever your python expression return an element of these types they \n"
      ],
      "text/plain": [
       "<IPython.core.display.Markdown object>"
      ]
     },
     "metadata": {},
     "output_type": "display_data"
    },
    {
     "data": {
      "application/json": {
       "a": 10,
       "b": [
        1,
        4,
        5
       ]
      },
      "text/plain": [
       "<IPython.core.display.JSON object>"
      ]
     },
     "metadata": {
      "application/json": {
       "expanded": false
      }
     },
     "output_type": "display_data"
    },
    {
     "data": {
      "text/markdown": [
       "\n",
       "\n",
       "<br><br>\n",
       "\n",
       "For LaTeX all \\ have to be escaped:\n",
       "    \n"
      ],
      "text/plain": [
       "<IPython.core.display.Markdown object>"
      ]
     },
     "metadata": {},
     "output_type": "display_data"
    },
    {
     "data": {
      "text/latex": [
       "\\begin{align}F(x) &= \\int^a_b\\frac{x^2}{5} \\end{align}"
      ],
      "text/plain": [
       "<IPython.core.display.Latex object>"
      ]
     },
     "metadata": {},
     "output_type": "display_data"
    }
   ],
   "source": [
    "%%mmd\n",
    "Additionally some of the other types that are defined in IPython.display can be used. Namely:\n",
    " - HTML\n",
    " - JSON \n",
    " - Image\n",
    " - SVG\n",
    " - Latex\n",
    " - Markdown\n",
    "    \n",
    "That means whenever your python expression return an element of these types they \n",
    "{{\n",
    "    JSON({\"a\":10, \"b\":[1,4,5]})\n",
    "}}\n",
    "\n",
    "<br><br>\n",
    "\n",
    "For LaTeX all \\ have to be escaped:\n",
    "    \n",
    "{{Latex(\"\\\\begin{align}F(x) &= \\\\int^a_b\\\\frac{x^2}{5} \\\\end{align}\")}}"
   ]
  },
  {
   "cell_type": "code",
   "execution_count": 12,
   "metadata": {},
   "outputs": [],
   "source": [
    "from random import randint\n",
    "\n",
    "number_count = randint(500, 1000)\n",
    "random_nums = [randint(0, 1000) for a in range(0, number_count)]"
   ]
  },
  {
   "cell_type": "code",
   "execution_count": 13,
   "metadata": {},
   "outputs": [
    {
     "data": {
      "text/markdown": [
       "There are 948 numbers. The highest is *1000*"
      ],
      "text/plain": [
       "<IPython.core.display.Markdown object>"
      ]
     },
     "metadata": {},
     "output_type": "display_data"
    }
   ],
   "source": [
    "%%mmd\n",
    "There are {{number_count}} numbers. The highest is *{{max(random_nums)}}*"
   ]
  },
  {
   "cell_type": "code",
   "execution_count": null,
   "metadata": {},
   "outputs": [],
   "source": []
  }
 ],
 "metadata": {
  "kernelspec": {
   "display_name": "nlp",
   "language": "python",
   "name": "nlp"
  },
  "language_info": {
   "codemirror_mode": {
    "name": "ipython",
    "version": 3
   },
   "file_extension": ".py",
   "mimetype": "text/x-python",
   "name": "python",
   "nbconvert_exporter": "python",
   "pygments_lexer": "ipython3",
   "version": "3.6.4"
  }
 },
 "nbformat": 4,
 "nbformat_minor": 2
}
